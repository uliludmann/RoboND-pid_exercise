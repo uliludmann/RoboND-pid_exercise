{
 "cells": [
  {
   "cell_type": "code",
   "execution_count": 4,
   "metadata": {},
   "outputs": [
    {
     "data": {
      "image/png": "[encoded data removed]",
      "text/plain": [
       "<matplotlib.figure.Figure at 0x114bdf7f0>"
      ]
     },
     "metadata": {},
     "output_type": "display_data"
    },
    {
     "data": {
      "image/png": "[encoded data removed]",
      "text/plain": [
       "<matplotlib.figure.Figure at 0x114c9cf98>"
      ]
     },
     "metadata": {},
     "output_type": "display_data"
    },
    {
     "name": "stdout",
     "output_type": "stream",
     "text": [
      "The rise time is 0.301 seconds\n",
      "The percent overshoot is 5.0%\n",
      "The steady state offset at 30 seconds is 0.000 meters\n"
     ]
    }
   ],
   "source": [
    "import numpy as np\n",
    "import matplotlib.pyplot as plt\n",
    "from pid_controller import PIDController\n",
    "from quad1d_eom import ydot\n",
    "\n",
    "##################################################################################\n",
    "##################################################################################\n",
    "# This code is what will be executed and what will produce your results\n",
    "# For this quiz you need to set kp, ki and kd so that you have a steady state \n",
    "# error offset less than 0.029 m and your percent overshoot is less than 4.0 %.\n",
    "# Its encouraged to try for less though!!\n",
    "kp = 0.8\n",
    "ki = 0.7\n",
    "kd = 0.8\n",
    "##################################################################################\n",
    "##################################################################################\n",
    "\n",
    "# Simulation parameters\n",
    "N = 500 # number of simultion points\n",
    "t0 = 0  # starting time, (sec)\n",
    "tf = 30 # end time, (sec)\n",
    "time = np.linspace(t0, tf, N)\n",
    "dt = time[1] - time[0] # delta t, (sec)\n",
    "\n",
    "##################################################################################\n",
    "# Core simulation code\n",
    "# Inital conditions (i.e., initial state vector)\n",
    "y = [0, 0]\n",
    "   #y[0] = initial altitude, (m)\n",
    "   #y[1] = initial speed, (m/s)\n",
    "\n",
    "# Initialize array to store values\n",
    "soln = np.zeros((len(time),len(y)))\n",
    "\n",
    "# Create instance of PID_Controller class\n",
    "pid = PIDController()\n",
    "\n",
    "# Set the Kp value of the controller\n",
    "pid.setKP(kp)\n",
    "\n",
    "# Set the Ki value of the controller\n",
    "pid.setKI(ki)\n",
    "\n",
    "# Set the Kd value of the controller\n",
    "pid.setKD(kd)\n",
    "\n",
    "# Set altitude target\n",
    "r = 10 # meters\n",
    "pid.setTarget(r)\n",
    "\n",
    "# Simulate quadrotor motion\n",
    "j = 0 # dummy counter\n",
    "for t in time:\n",
    "    # Evaluate state at next time point\n",
    "    y = ydot(y,t,pid)\n",
    "    # Store results\n",
    "    soln[j,:] = y\n",
    "    j += 1\n",
    "\n",
    "##################################################################################\n",
    "# Plot results\n",
    "SP = np.ones_like(time)*r # altitude set point\n",
    "fig = plt.figure()\n",
    "ax1 = fig.add_subplot(211)\n",
    "ax1.plot(time, soln[:,0],time,SP,'--')\n",
    "ax1.set_xlabel('Time, (sec)')\n",
    "ax1.set_ylabel('Altitude, (m)')\n",
    "\n",
    "ax2 = fig.add_subplot(212)\n",
    "ax2.plot(time, soln[:,1])\n",
    "ax2.set_xlabel('Time, (sec)')\n",
    "ax2.set_ylabel('Speed, (m/s)')\n",
    "plt.tight_layout()\n",
    "plt.show()\n",
    "\n",
    "fig2 = plt.figure()\n",
    "ax3 = fig2.add_subplot(111)\n",
    "ax3.plot(time, pid.u_p, label='u_p', linewidth=3, color = 'red')\n",
    "ax3.plot(time, pid.u_i, label='u_i', linewidth=3, color = 'blue')\n",
    "ax3.plot(time, pid.u_d, label='u_d', linewidth=3, color = 'green')\n",
    "ax3.set_xlabel('Time, (sec)')\n",
    "ax3.set_ylabel('Control Effort')\n",
    "h, l = ax3.get_legend_handles_labels()\n",
    "ax3.legend(h, l)\n",
    "plt.tight_layout()\n",
    "plt.show()\n",
    "##################\n",
    "y0 = soln[:,0] #altitude\n",
    "rise_time_index =  np.argmax(y0>r)\n",
    "RT = time[rise_time_index]\n",
    "print(\"The rise time is {0:.3f} seconds\".format(RT))\n",
    "\n",
    "OS = (np.max(y0) - r)/r*100\n",
    "if OS < 0:\n",
    "    OS = 0\n",
    "print(\"The percent overshoot is {0:.1f}%\".format(OS))\n",
    "\n",
    "print (\"The steady state offset at 30 seconds is {0:.3f} meters\".format(abs(soln[-1,0]-r)))"
   ]
  },
  {
   "cell_type": "code",
   "execution_count": null,
   "metadata": {
    "collapsed": true
   },
   "outputs": [],
   "source": []
  },
  {
   "cell_type": "code",
   "execution_count": null,
   "metadata": {
    "collapsed": true
   },
   "outputs": [],
   "source": []
  }
 ],
 "metadata": {
  "kernelspec": {
   "display_name": "Python 3",
   "language": "python",
   "name": "python3"
  },
  "language_info": {
   "codemirror_mode": {
    "name": "ipython",
    "version": 3
   },
   "file_extension": ".py",
   "mimetype": "text/x-python",
   "name": "python",
   "nbconvert_exporter": "python",
   "pygments_lexer": "ipython3",
   "version": "3.5.2"
  },
  "widgets": {
   "state": {},
   "version": "1.1.2"
  }
 },
 "nbformat": 4,
 "nbformat_minor": 2
}
